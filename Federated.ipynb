{
  "nbformat": 4,
  "nbformat_minor": 0,
  "metadata": {
    "colab": {
      "provenance": []
    },
    "kernelspec": {
      "name": "python3",
      "display_name": "Python 3"
    },
    "language_info": {
      "name": "python"
    }
  },
  "cells": [
    {
      "cell_type": "markdown",
      "source": [
        "\n",
        "\n",
        "\n",
        "# **Implementation of Federated Learning using TensorFlow Federated (TFF) on the MNIST Dataset**"
      ],
      "metadata": {
        "id": "QEnnELKI1X0X"
      }
    },
    {
      "cell_type": "markdown",
      "source": [
        "**About :**\n",
        "This is a tutorial on the EMNIST dataset, where we created a federated algorithm to create a model for a decentralized data like the EMNIST dataset, using the federated tensorflow package."
      ],
      "metadata": {
        "id": "KSktmZi91-aC"
      }
    },
    {
      "cell_type": "markdown",
      "source": [
        "# **1. installing packages :**"
      ],
      "metadata": {
        "id": "le2D7M3o-WcZ"
      }
    },
    {
      "cell_type": "code",
      "source": [
        "!pip install --quiet --upgrade tensorflow-federated # we install and upgrade the tensorflow-federated package\n",
        "!pip install --quiet --upgrade nest-asyncio # we install and upgrade the nest-asyncio package\n",
        "\n",
        "import nest_asyncio\n",
        "nest_asyncio.apply()"
      ],
      "metadata": {
        "colab": {
          "base_uri": "https://localhost:8080/"
        },
        "id": "sxecQjwR-kJU",
        "outputId": "c1bb570e-16d1-428d-c9ce-3660e0117b6e"
      },
      "execution_count": null,
      "outputs": [
        {
          "output_type": "stream",
          "name": "stdout",
          "text": [
            "\u001b[2K     \u001b[90m━━━━━━━━━━━━━━━━━━━━━━━━━━━━━━━━━━━━━━━━\u001b[0m \u001b[32m40.1/40.1 MB\u001b[0m \u001b[31m11.8 MB/s\u001b[0m eta \u001b[36m0:00:00\u001b[0m\n",
            "\u001b[2K     \u001b[90m━━━━━━━━━━━━━━━━━━━━━━━━━━━━━━━━━━━━━━━━\u001b[0m \u001b[32m60.6/60.6 KB\u001b[0m \u001b[31m4.4 MB/s\u001b[0m eta \u001b[36m0:00:00\u001b[0m\n",
            "\u001b[2K     \u001b[90m━━━━━━━━━━━━━━━━━━━━━━━━━━━━━━━━━━━━━━━━\u001b[0m \u001b[32m89.9/89.9 KB\u001b[0m \u001b[31m6.5 MB/s\u001b[0m eta \u001b[36m0:00:00\u001b[0m\n",
            "\u001b[2K     \u001b[90m━━━━━━━━━━━━━━━━━━━━━━━━━━━━━━━━━━━━━━━━\u001b[0m \u001b[32m72.0/72.0 MB\u001b[0m \u001b[31m10.9 MB/s\u001b[0m eta \u001b[36m0:00:00\u001b[0m\n",
            "\u001b[2K     \u001b[90m━━━━━━━━━━━━━━━━━━━━━━━━━━━━━━━━━━━━━━\u001b[0m \u001b[32m255.8/255.8 KB\u001b[0m \u001b[31m16.3 MB/s\u001b[0m eta \u001b[36m0:00:00\u001b[0m\n",
            "\u001b[2K     \u001b[90m━━━━━━━━━━━━━━━━━━━━━━━━━━━━━━━━━━━━━━━━\u001b[0m \u001b[32m3.0/3.0 MB\u001b[0m \u001b[31m43.4 MB/s\u001b[0m eta \u001b[36m0:00:00\u001b[0m\n",
            "\u001b[2K     \u001b[90m━━━━━━━━━━━━━━━━━━━━━━━━━━━━━━━━━━━━━━━\u001b[0m \u001b[32m142.7/142.7 KB\u001b[0m \u001b[31m9.6 MB/s\u001b[0m eta \u001b[36m0:00:00\u001b[0m\n",
            "\u001b[2K     \u001b[90m━━━━━━━━━━━━━━━━━━━━━━━━━━━━━━━━━━━━━━\u001b[0m \u001b[32m238.9/238.9 KB\u001b[0m \u001b[31m17.6 MB/s\u001b[0m eta \u001b[36m0:00:00\u001b[0m\n",
            "\u001b[2K     \u001b[90m━━━━━━━━━━━━━━━━━━━━━━━━━━━━━━━━━━━━━━━━\u001b[0m \u001b[32m1.0/1.0 MB\u001b[0m \u001b[31m43.8 MB/s\u001b[0m eta \u001b[36m0:00:00\u001b[0m\n",
            "\u001b[?25h  Preparing metadata (setup.py) ... \u001b[?25l\u001b[?25hdone\n",
            "\u001b[2K     \u001b[90m━━━━━━━━━━━━━━━━━━━━━━━━━━━━━━━━━━━━━━\u001b[0m \u001b[32m120.2/120.2 KB\u001b[0m \u001b[31m10.1 MB/s\u001b[0m eta \u001b[36m0:00:00\u001b[0m\n",
            "\u001b[2K     \u001b[90m━━━━━━━━━━━━━━━━━━━━━━━━━━━━━━━━━━━━━━\u001b[0m \u001b[32m349.0/349.0 KB\u001b[0m \u001b[31m26.4 MB/s\u001b[0m eta \u001b[36m0:00:00\u001b[0m\n",
            "\u001b[2K     \u001b[90m━━━━━━━━━━━━━━━━━━━━━━━━━━━━━━━━━━━━━━━━\u001b[0m \u001b[32m39.8/39.8 MB\u001b[0m \u001b[31m6.3 MB/s\u001b[0m eta \u001b[36m0:00:00\u001b[0m\n",
            "\u001b[2K     \u001b[90m━━━━━━━━━━━━━━━━━━━━━━━━━━━━━━━━━━━━━━\u001b[0m \u001b[32m532.6/532.6 KB\u001b[0m \u001b[31m15.4 MB/s\u001b[0m eta \u001b[36m0:00:00\u001b[0m\n",
            "\u001b[2K     \u001b[90m━━━━━━━━━━━━━━━━━━━━━━━━━━━━━━━━━━━━━━\u001b[0m \u001b[32m126.7/126.7 KB\u001b[0m \u001b[31m10.2 MB/s\u001b[0m eta \u001b[36m0:00:00\u001b[0m\n",
            "\u001b[2K     \u001b[90m━━━━━━━━━━━━━━━━━━━━━━━━━━━━━━━━━━━━━━━━\u001b[0m \u001b[32m2.8/2.8 MB\u001b[0m \u001b[31m56.7 MB/s\u001b[0m eta \u001b[36m0:00:00\u001b[0m\n",
            "\u001b[2K     \u001b[90m━━━━━━━━━━━━━━━━━━━━━━━━━━━━━━━━━━━━━━\u001b[0m \u001b[32m146.0/146.0 KB\u001b[0m \u001b[31m10.5 MB/s\u001b[0m eta \u001b[36m0:00:00\u001b[0m\n",
            "\u001b[2K     \u001b[90m━━━━━━━━━━━━━━━━━━━━━━━━━━━━━━━━━━━━━━━━\u001b[0m \u001b[32m2.0/2.0 MB\u001b[0m \u001b[31m40.5 MB/s\u001b[0m eta \u001b[36m0:00:00\u001b[0m\n",
            "\u001b[2K     \u001b[90m━━━━━━━━━━━━━━━━━━━━━━━━━━━━━━━━━━━━━━━━\u001b[0m \u001b[32m42.6/42.6 KB\u001b[0m \u001b[31m3.3 MB/s\u001b[0m eta \u001b[36m0:00:00\u001b[0m\n",
            "\u001b[2K     \u001b[90m━━━━━━━━━━━━━━━━━━━━━━━━━━━━━━━━━━━━━━━━\u001b[0m \u001b[32m5.7/5.7 MB\u001b[0m \u001b[31m34.5 MB/s\u001b[0m eta \u001b[36m0:00:00\u001b[0m\n",
            "\u001b[?25h  Building wheel for jax (setup.py) ... \u001b[?25l\u001b[?25hdone\n",
            "\u001b[31mERROR: pip's dependency resolver does not currently take into account all the packages that are installed. This behaviour is the source of the following dependency conflicts.\n",
            "pymc 5.1.2 requires cachetools>=4.2.1, but you have cachetools 3.1.1 which is incompatible.\n",
            "orbax 0.1.7 requires jax>=0.4.6, but you have jax 0.3.15 which is incompatible.\n",
            "google-colab 1.0.0 requires portpicker~=1.3.1, but you have portpicker 1.5.2 which is incompatible.\n",
            "flax 0.6.8 requires jax>=0.4.2, but you have jax 0.3.15 which is incompatible.\n",
            "chex 0.1.7 requires jax>=0.4.6, but you have jax 0.3.15 which is incompatible.\n",
            "arviz 0.15.1 requires scipy>=1.8.0, but you have scipy 1.7.3 which is incompatible.\u001b[0m\u001b[31m\n",
            "\u001b[0m"
          ]
        }
      ]
    },
    {
      "cell_type": "markdown",
      "source": [
        "NEST_ASYNCIO:\n",
        "- nest_asyncio is a Python package that provides support for running asynchronous code in nested event loops. It is commonly used with packages like tensorflow-federated that use asyncio-based code to enable distributed computing."
      ],
      "metadata": {
        "id": "lDgnTX6QOOu5"
      }
    },
    {
      "cell_type": "markdown",
      "source": [
        "# **2. importing packages :**"
      ],
      "metadata": {
        "id": "rbQnuee9-CxU"
      }
    },
    {
      "cell_type": "code",
      "source": [
        "import tensorflow as tf\n",
        "import tensorflow_federated as tff\n",
        "import matplotlib.pyplot as plt\n",
        "import numpy as np"
      ],
      "metadata": {
        "id": "PaYpy25L-QyX"
      },
      "execution_count": null,
      "outputs": []
    },
    {
      "cell_type": "markdown",
      "source": [
        "# **3. Loading the data :**"
      ],
      "metadata": {
        "id": "4DA87xt195Ff"
      }
    },
    {
      "cell_type": "code",
      "execution_count": null,
      "metadata": {
        "id": "xMSKQQLC9wB9",
        "colab": {
          "base_uri": "https://localhost:8080/"
        },
        "outputId": "93a982b5-b6a6-4799-aa45-5076e1f7a512"
      },
      "outputs": [
        {
          "output_type": "stream",
          "name": "stderr",
          "text": [
            "Downloading emnist_all.sqlite.lzma: 100%|██████████| 170507172/170507172 [00:51<00:00, 3339002.53it/s]\n"
          ]
        }
      ],
      "source": [
        "emnist_train, emnist_test = tff.simulation.datasets.emnist.load_data()"
      ]
    },
    {
      "cell_type": "code",
      "source": [
        "len(emnist_train.client_ids)"
      ],
      "metadata": {
        "colab": {
          "base_uri": "https://localhost:8080/"
        },
        "id": "Q-hrTjet_JEP",
        "outputId": "a5809171-da64-4b6c-8420-9b1f8e7131d0"
      },
      "execution_count": null,
      "outputs": [
        {
          "output_type": "execute_result",
          "data": {
            "text/plain": [
              "3383"
            ]
          },
          "metadata": {},
          "execution_count": 5
        }
      ]
    },
    {
      "cell_type": "markdown",
      "source": [
        "- We can clearly see that we have 3383 clients, each client is represented by a tf.data.Dataset object containing a subset of the data. The subsets are disjoint."
      ],
      "metadata": {
        "id": "mr5XvJeBOnee"
      }
    },
    {
      "cell_type": "code",
      "source": [
        "exemple_dataset = emnist_train.create_tf_dataset_for_client(emnist_train.client_ids[0]) # this is subset of the data that is contained by the first client\n",
        "exemple_dataset.element_spec # The \"element_spec\"  describes the structure of the elements in the dataset."
      ],
      "metadata": {
        "colab": {
          "base_uri": "https://localhost:8080/"
        },
        "id": "EcGChyqT_fxy",
        "outputId": "a6ceeadd-4790-4c68-de70-7953143b6f1c"
      },
      "execution_count": null,
      "outputs": [
        {
          "output_type": "execute_result",
          "data": {
            "text/plain": [
              "OrderedDict([('label', TensorSpec(shape=(), dtype=tf.int32, name=None)),\n",
              "             ('pixels',\n",
              "              TensorSpec(shape=(28, 28), dtype=tf.float32, name=None))])"
            ]
          },
          "metadata": {},
          "execution_count": 6
        }
      ]
    },
    {
      "cell_type": "markdown",
      "source": [
        "Each element of the dataset has two components:\n",
        "\n",
        "- 'label': A scalar tensor (shape=()) of type tf.int32, representing the label for the image.\n",
        "- 'pixels': A 2D tensor (shape=(28, 28)) of type tf.float32, representing the grayscale pixel values of the image."
      ],
      "metadata": {
        "id": "JfKgS_WdR_h9"
      }
    },
    {
      "cell_type": "code",
      "source": [
        "#let's select an exemple element of the \"exemple_dataset\" subset ( one element from the first client)\n",
        "exemple_element = next(iter(exemple_dataset))\n",
        "exemple_element['label'].numpy()"
      ],
      "metadata": {
        "colab": {
          "base_uri": "https://localhost:8080/"
        },
        "id": "gi0yPyDyAXKV",
        "outputId": "dba260c3-78de-4b3a-cb0c-1c630c848f91"
      },
      "execution_count": null,
      "outputs": [
        {
          "output_type": "execute_result",
          "data": {
            "text/plain": [
              "1"
            ]
          },
          "metadata": {},
          "execution_count": 7
        }
      ]
    },
    {
      "cell_type": "markdown",
      "source": [
        "- The label of this element is the number 1"
      ],
      "metadata": {
        "id": "naFc31toSpgD"
      }
    },
    {
      "cell_type": "code",
      "source": [
        "plt.imshow(exemple_element['pixels'].numpy(),cmap='gray',aspect=\"equal\") # we want to display the second component which is the image\n",
        "plt.show()"
      ],
      "metadata": {
        "colab": {
          "base_uri": "https://localhost:8080/",
          "height": 430
        },
        "id": "bB_9Z-kKBXPc",
        "outputId": "80479892-9569-409a-98bf-c6e1af5e2e49"
      },
      "execution_count": null,
      "outputs": [
        {
          "output_type": "display_data",
          "data": {
            "text/plain": [
              "<Figure size 640x480 with 1 Axes>"
            ],
            "image/png": "[encoded data removed]"
          },
          "metadata": {}
        }
      ]
    },
    {
      "cell_type": "markdown",
      "source": [
        "- And it is 1 displayed as indicated by the label"
      ],
      "metadata": {
        "id": "OeyC2aTQS_w-"
      }
    },
    {
      "cell_type": "code",
      "source": [
        "# let's display 40 elements of the first client's subset:\n",
        "f = plt.figure(figsize=(20,4))\n",
        "j=0\n",
        "for e in exemple_dataset.take(40): # we chose 40 elements\n",
        "  plt.subplot(4,10,j+1)\n",
        "  plt.imshow(e['pixels'].numpy(),cmap='gray',aspect=\"equal\") # we show the image of each element\n",
        "  plt.axis('off')\n",
        "  j=j+1"
      ],
      "metadata": {
        "colab": {
          "base_uri": "https://localhost:8080/",
          "height": 269
        },
        "id": "JE1lc2oeB4-k",
        "outputId": "1acae9f4-ef23-4719-e1cd-62b2315c8970"
      },
      "execution_count": null,
      "outputs": [
        {
          "output_type": "display_data",
          "data": {
            "text/plain": [
              "<Figure size 2000x400 with 40 Axes>"
            ],
            "image/png": "[encoded data removed]"
          },
          "metadata": {}
        }
      ]
    },
    {
      "cell_type": "code",
      "source": [
        "from tensorflow_federated.python.core.impl.computation.computation_wrapper import collections\n",
        "# we will create a histogram counting the number of elements contained in 6 clients\n",
        "f= plt.figure(figsize=(12,7))\n",
        "f.suptitle(\"label conts for a sample of clients\")\n",
        "for i in range(6): # for 6 clients\n",
        "  ds = emnist_train.create_tf_dataset_for_client(emnist_train.client_ids[i])\n",
        "  k = collections.defaultdict(list)\n",
        "  for e in ds: # for every element in client i\n",
        "    k[e['label'].numpy()].append(e['label'].numpy()) #  k is a defaultdict object that counts the number of examples for each label in client i\n",
        "  print(k)\n",
        "  print()\n",
        "  plt.subplot(2,3,i+1)\n",
        "  plt.title(\"client {}\".format(i))\n",
        "  for j in range(10):\n",
        "    plt.hist(k[j], density=False, bins=[0,1,2,3,4,5,6,7,8,9,10]) # we display a histogram for each of the 6 clients\n"
      ],
      "metadata": {
        "colab": {
          "base_uri": "https://localhost:8080/",
          "height": 897
        },
        "id": "7BUWPJpvDcMS",
        "outputId": "1235e58e-8ed5-43c7-fffa-ad1e2444861b"
      },
      "execution_count": null,
      "outputs": [
        {
          "output_type": "stream",
          "name": "stdout",
          "text": [
            "defaultdict(<class 'list'>, {1: [1, 1, 1, 1, 1, 1, 1, 1, 1, 1, 1], 0: [0, 0, 0, 0, 0, 0, 0, 0, 0, 0, 0], 2: [2, 2, 2, 2, 2, 2, 2, 2, 2, 2, 2], 3: [3, 3, 3, 3, 3, 3, 3, 3, 3, 3, 3], 6: [6, 6, 6, 6, 6, 6, 6, 6, 6], 7: [7, 7, 7, 7, 7, 7, 7, 7, 7, 7, 7], 5: [5, 5, 5, 5, 5, 5, 5], 9: [9, 9, 9, 9, 9, 9, 9, 9], 8: [8, 8, 8, 8, 8, 8, 8], 4: [4, 4, 4, 4, 4, 4, 4]})\n",
            "\n",
            "defaultdict(<class 'list'>, {1: [1, 1, 1, 1, 1, 1, 1, 1, 1, 1], 0: [0, 0, 0, 0, 0, 0, 0, 0, 0, 0, 0, 0], 7: [7, 7, 7, 7, 7, 7, 7, 7, 7, 7, 7], 5: [5, 5, 5, 5, 5, 5, 5, 5, 5, 5], 2: [2, 2, 2, 2, 2, 2, 2, 2, 2, 2, 2], 6: [6, 6, 6, 6, 6, 6, 6, 6, 6, 6, 6], 8: [8, 8, 8, 8, 8, 8, 8, 8, 8, 8], 4: [4, 4, 4, 4, 4, 4, 4, 4, 4, 4, 4, 4], 3: [3, 3, 3, 3, 3, 3, 3, 3, 3, 3, 3], 9: [9, 9, 9, 9, 9, 9, 9, 9, 9, 9, 9]})\n",
            "\n",
            "defaultdict(<class 'list'>, {1: [1, 1, 1, 1, 1, 1, 1, 1, 1, 1, 1, 1], 0: [0, 0, 0, 0, 0], 6: [6, 6, 6, 6, 6, 6], 4: [4, 4, 4, 4, 4, 4, 4, 4], 5: [5, 5, 5, 5, 5, 5], 3: [3, 3, 3, 3, 3, 3, 3], 8: [8, 8, 8, 8, 8, 8], 7: [7, 7, 7, 7, 7, 7, 7, 7, 7], 9: [9, 9, 9, 9, 9, 9, 9, 9, 9], 2: [2, 2, 2, 2, 2]})\n",
            "\n",
            "defaultdict(<class 'list'>, {1: [1, 1, 1, 1, 1, 1, 1, 1, 1, 1, 1, 1, 1], 0: [0, 0, 0, 0, 0, 0, 0], 4: [4, 4, 4, 4, 4, 4, 4, 4, 4, 4, 4, 4], 8: [8, 8, 8, 8, 8, 8, 8, 8, 8, 8, 8], 3: [3, 3, 3, 3, 3, 3, 3, 3, 3, 3], 6: [6, 6, 6, 6, 6, 6, 6, 6, 6, 6], 2: [2, 2, 2, 2, 2, 2, 2, 2, 2, 2], 5: [5, 5, 5, 5, 5, 5, 5], 7: [7, 7, 7, 7, 7, 7, 7, 7, 7, 7, 7], 9: [9, 9, 9, 9, 9, 9, 9, 9, 9]})\n",
            "\n",
            "defaultdict(<class 'list'>, {1: [1, 1, 1, 1, 1, 1, 1, 1, 1, 1, 1, 1], 0: [0, 0, 0, 0, 0, 0, 0, 0, 0, 0, 0, 0], 4: [4, 4, 4, 4, 4, 4, 4, 4, 4, 4], 2: [2, 2, 2, 2, 2, 2, 2, 2, 2, 2], 5: [5, 5, 5, 5, 5, 5, 5], 8: [8, 8, 8, 8, 8, 8, 8, 8, 8, 8], 3: [3, 3, 3, 3, 3, 3, 3, 3, 3, 3, 3, 3], 9: [9, 9, 9, 9, 9, 9, 9, 9, 9], 7: [7, 7, 7, 7, 7, 7, 7, 7, 7, 7, 7], 6: [6, 6, 6, 6, 6, 6, 6, 6, 6, 6, 6, 6]})\n",
            "\n",
            "defaultdict(<class 'list'>, {1: [1, 1, 1, 1, 1, 1, 1, 1, 1, 1], 0: [0, 0, 0, 0, 0, 0, 0, 0, 0, 0], 2: [2, 2, 2, 2, 2, 2, 2, 2, 2, 2], 3: [3, 3, 3, 3, 3, 3, 3, 3, 3, 3, 3, 3, 3], 5: [5, 5, 5, 5, 5, 5, 5, 5, 5, 5, 5, 5, 5], 8: [8, 8, 8, 8, 8, 8, 8, 8], 6: [6, 6, 6, 6, 6, 6, 6, 6, 6, 6], 9: [9, 9, 9, 9, 9, 9, 9, 9, 9], 7: [7, 7, 7, 7, 7, 7, 7, 7, 7, 7, 7, 7], 4: [4, 4, 4, 4, 4, 4, 4, 4]})\n",
            "\n"
          ]
        },
        {
          "output_type": "display_data",
          "data": {
            "text/plain": [
              "<Figure size 1200x700 with 6 Axes>"
            ],
            "image/png": "[encoded data removed]"
          },
          "metadata": {}
        }
      ]
    },
    {
      "cell_type": "markdown",
      "source": [
        "# **Preprocessing the data :**"
      ],
      "metadata": {
        "id": "wfDavLhpP0Ul"
      }
    },
    {
      "cell_type": "code",
      "source": [
        "NUM_CLIENTS = 10\n",
        "BATCH_SIZE = 20 # the size of batch is 20\n",
        "NUM_EPOCHS = 5 # number of repeating the dataset so that the model can see it multiple times\n",
        "SHUFFLE_BUFFER= 100 # the buffer size is 100\n",
        "PREFETCH_BUFFER = 10\n",
        "def preprocess(dataset):\n",
        "  \"\"\" we defined this function that takes a dataset as imput and prepare it for the neural network model\"\"\"\n",
        "\n",
        "  def batch_format_fn(element):\n",
        "    \"\"\"Flatten a batch of EMNIST data and return a (features, label) tuple.\"\"\" #in this step we will flaten each (28,28) image into a table\n",
        "    return (tf.reshape(element['pixels'], [-1, 784]),\n",
        "            tf.reshape(element['label'], [-1, 1]))\n",
        "\n",
        "  return dataset.repeat(NUM_EPOCHS).shuffle(SHUFFLE_BUFFER).batch(BATCH_SIZE).map(batch_format_fn).prefetch(PREFETCH_BUFFER)\n",
        ""
      ],
      "metadata": {
        "id": "X9CqeJ5DMS-s"
      },
      "execution_count": null,
      "outputs": []
    },
    {
      "cell_type": "code",
      "source": [
        "preprocessed_example_dataset = preprocess(exemple_dataset) # we process the first client's subset as example\n",
        "sample_batch = tf.nest.map_structure(lambda x: x.numpy(),next(iter(preprocessed_example_dataset))) # this function convert the first batch of the preprocessed_example_dataset into numpy arrays\n",
        "sample_batch"
      ],
      "metadata": {
        "colab": {
          "base_uri": "https://localhost:8080/"
        },
        "id": "SGobGUaWSK9U",
        "outputId": "aafe16c4-0fd0-4169-8d7e-086c768d9448"
      },
      "execution_count": null,
      "outputs": [
        {
          "output_type": "execute_result",
          "data": {
            "text/plain": [
              "(array([[1., 1., 1., ..., 1., 1., 1.],\n",
              "        [1., 1., 1., ..., 1., 1., 1.],\n",
              "        [1., 1., 1., ..., 1., 1., 1.],\n",
              "        ...,\n",
              "        [1., 1., 1., ..., 1., 1., 1.],\n",
              "        [1., 1., 1., ..., 1., 1., 1.],\n",
              "        [1., 1., 1., ..., 1., 1., 1.]], dtype=float32),\n",
              " array([[1],\n",
              "        [2],\n",
              "        [3],\n",
              "        [2],\n",
              "        [2],\n",
              "        [0],\n",
              "        [1],\n",
              "        [1],\n",
              "        [6],\n",
              "        [0],\n",
              "        [2],\n",
              "        [8],\n",
              "        [4],\n",
              "        [4],\n",
              "        [3],\n",
              "        [7],\n",
              "        [1],\n",
              "        [9],\n",
              "        [0],\n",
              "        [0]], dtype=int32))"
            ]
          },
          "metadata": {},
          "execution_count": 12
        }
      ]
    },
    {
      "cell_type": "markdown",
      "source": [
        "- We can clearly see that the output is a tuple containing two numpy arrays. The first array is of shape (20, 784), representing 20 flattened images with 784 features each. The second array is of shape (20, 1), representing 20 labels."
      ],
      "metadata": {
        "id": "K6NirQj_uQWe"
      }
    },
    {
      "cell_type": "code",
      "source": [
        "#let's verify that the preprocessing worked:\n",
        "client_ids = sorted(emnist_train.client_ids)[:NUM_CLIENTS] #here we selected 10 clients and applyed the preprocessing on them\n",
        "federated_train_data = [preprocess(emnist_train.create_tf_dataset_for_client(x))\n",
        "  for x in client_ids\n",
        "] # for every client of the 10 selected clients we applied the preprocess function\n",
        "federated_train_data"
      ],
      "metadata": {
        "id": "1Z2HlA_aRxre",
        "colab": {
          "base_uri": "https://localhost:8080/"
        },
        "outputId": "2e2386fa-11ef-43cb-b26d-f101e4717364"
      },
      "execution_count": null,
      "outputs": [
        {
          "output_type": "execute_result",
          "data": {
            "text/plain": [
              "[<_PrefetchDataset element_spec=(TensorSpec(shape=(None, 784), dtype=tf.float32, name=None), TensorSpec(shape=(None, 1), dtype=tf.int32, name=None))>,\n",
              " <_PrefetchDataset element_spec=(TensorSpec(shape=(None, 784), dtype=tf.float32, name=None), TensorSpec(shape=(None, 1), dtype=tf.int32, name=None))>,\n",
              " <_PrefetchDataset element_spec=(TensorSpec(shape=(None, 784), dtype=tf.float32, name=None), TensorSpec(shape=(None, 1), dtype=tf.int32, name=None))>,\n",
              " <_PrefetchDataset element_spec=(TensorSpec(shape=(None, 784), dtype=tf.float32, name=None), TensorSpec(shape=(None, 1), dtype=tf.int32, name=None))>,\n",
              " <_PrefetchDataset element_spec=(TensorSpec(shape=(None, 784), dtype=tf.float32, name=None), TensorSpec(shape=(None, 1), dtype=tf.int32, name=None))>,\n",
              " <_PrefetchDataset element_spec=(TensorSpec(shape=(None, 784), dtype=tf.float32, name=None), TensorSpec(shape=(None, 1), dtype=tf.int32, name=None))>,\n",
              " <_PrefetchDataset element_spec=(TensorSpec(shape=(None, 784), dtype=tf.float32, name=None), TensorSpec(shape=(None, 1), dtype=tf.int32, name=None))>,\n",
              " <_PrefetchDataset element_spec=(TensorSpec(shape=(None, 784), dtype=tf.float32, name=None), TensorSpec(shape=(None, 1), dtype=tf.int32, name=None))>,\n",
              " <_PrefetchDataset element_spec=(TensorSpec(shape=(None, 784), dtype=tf.float32, name=None), TensorSpec(shape=(None, 1), dtype=tf.int32, name=None))>,\n",
              " <_PrefetchDataset element_spec=(TensorSpec(shape=(None, 784), dtype=tf.float32, name=None), TensorSpec(shape=(None, 1), dtype=tf.int32, name=None))>]"
            ]
          },
          "metadata": {},
          "execution_count": 13
        }
      ]
    },
    {
      "cell_type": "markdown",
      "source": [
        "# **5.Creating a model with Keras:**"
      ],
      "metadata": {
        "id": "UUXjCMy4UCJU"
      }
    },
    {
      "cell_type": "code",
      "source": [
        "def create_keras_model():\n",
        "  \"\"\" here we defined a simple model with an input layer size of 784, a hidden layer with 10 nodes,\n",
        "  and an output layer using softmax activation function. The weights in the hidden layer are\n",
        "   initialized using GlorotNormal initialization \"\"\"\n",
        "\n",
        "  initializer = tf.keras.initializers.GlorotNormal(seed=0)\n",
        "  return tf.keras.models.Sequential([\n",
        "      tf.keras.layers.Input(shape=(784,)),\n",
        "      tf.keras.layers.Dense(10, kernel_initializer=initializer),\n",
        "      tf.keras.layers.Softmax(),\n",
        "  ])"
      ],
      "metadata": {
        "id": "NKIOWvMZSHBx"
      },
      "execution_count": null,
      "outputs": []
    },
    {
      "cell_type": "code",
      "source": [
        "def model_fn():\n",
        "  \"\"\" This function defines a TFF model for federated learning by converting\n",
        "  the Keras model done earlier into a TFF model using the tff.learning.models.from_keras_model method \"\"\"\n",
        "  keras_model = create_keras_model()\n",
        "  return tff.learning.models.from_keras_model(\n",
        "      keras_model,\n",
        "      input_spec=federated_train_data[0].element_spec,\n",
        "      loss=tf.keras.losses.SparseCategoricalCrossentropy(),\n",
        "      metrics=[tf.keras.metrics.SparseCategoricalAccuracy()])"
      ],
      "metadata": {
        "id": "M39WDLNjURgE"
      },
      "execution_count": null,
      "outputs": []
    },
    {
      "cell_type": "markdown",
      "source": [
        "# **Training the model on federated data:**"
      ],
      "metadata": {
        "id": "ipU51eJBVUmi"
      }
    },
    {
      "cell_type": "markdown",
      "source": [
        "# Creating and initializing computations:"
      ],
      "metadata": {
        "id": "4hhatjD8vyHs"
      }
    },
    {
      "cell_type": "markdown",
      "source": [
        "Computation:\n",
        "- In TensorFlow Federated (TFF), a computation is a unit of code that can be executed remotely on a collection of devices.\n",
        "- It is a fundamental concept in TFF, and it is what allows the framework to perform federated learning.\n",
        "- By defining computations that can be executed remotely on multiple devices, TFF enables the training of machine learning models using data that is distributed across those devices."
      ],
      "metadata": {
        "id": "vIXAw3blUnaT"
      }
    },
    {
      "cell_type": "markdown",
      "source": [
        "\n",
        "In TFF, a federated algorithm is typically represented as a an iterative process, it's is a class that contains `initialize` and `next` functions. Here, `initialize` is used to initialize the server, and `next` will perform one communication round of the federated algorithm."
      ],
      "metadata": {
        "id": "VLbDSuw7VUB8"
      }
    },
    {
      "cell_type": "markdown",
      "source": [
        "  **Initialize function :**\n",
        "the function initialize creates a `tff.learning.models.VariableModel`, and returns its trainable weights."
      ],
      "metadata": {
        "id": "XLsgAetGVhKm"
      }
    },
    {
      "cell_type": "code",
      "source": [
        "@tff.tf_computation\n",
        "def server_init():\n",
        "  model = model_fn()\n",
        "  return model.trainable_variables"
      ],
      "metadata": {
        "id": "j06cyi9Mvxr6"
      },
      "execution_count": null,
      "outputs": []
    },
    {
      "cell_type": "markdown",
      "source": [
        "we then pass this value into a federated computation"
      ],
      "metadata": {
        "id": "tBPw7YpWXYq1"
      }
    },
    {
      "cell_type": "code",
      "source": [
        "@tff.federated_computation\n",
        "def initialize_fn():\n",
        "  return tff.federated_value(server_init(), tff.SERVER)"
      ],
      "metadata": {
        "id": "4M7adQ_6tLZT"
      },
      "execution_count": null,
      "outputs": []
    },
    {
      "cell_type": "code",
      "source": [
        "whimsy_model = model_fn()\n",
        "tf_dataset_type = tff.SequenceType(whimsy_model.input_spec)"
      ],
      "metadata": {
        "id": "C0bkQLMOwJZ3"
      },
      "execution_count": null,
      "outputs": []
    },
    {
      "cell_type": "code",
      "source": [
        "str(tf_dataset_type)"
      ],
      "metadata": {
        "colab": {
          "base_uri": "https://localhost:8080/",
          "height": 35
        },
        "id": "wg8r0SimwKcI",
        "outputId": "a968f2a2-13ef-46e5-e1a9-c7e21cdd91bc"
      },
      "execution_count": null,
      "outputs": [
        {
          "output_type": "execute_result",
          "data": {
            "text/plain": [
              "'<float32[?,784],int32[?,1]>*'"
            ],
            "application/vnd.google.colaboratory.intrinsic+json": {
              "type": "string"
            }
          },
          "metadata": {},
          "execution_count": 19
        }
      ]
    },
    {
      "cell_type": "markdown",
      "source": [
        "here we use  the  `server_init` function defined above to extract the model weights type"
      ],
      "metadata": {
        "id": "cCNvkKjsYiaF"
      }
    },
    {
      "cell_type": "code",
      "source": [
        "model_weights_type = server_init.type_signature.result"
      ],
      "metadata": {
        "id": "-xpi_zMlwN65"
      },
      "execution_count": null,
      "outputs": []
    },
    {
      "cell_type": "code",
      "source": [
        "str(model_weights_type)"
      ],
      "metadata": {
        "colab": {
          "base_uri": "https://localhost:8080/",
          "height": 35
        },
        "id": "_ncnoGRJwOVQ",
        "outputId": "32ac5c50-b5ea-41c9-93f9-a704a0db0f9a"
      },
      "execution_count": null,
      "outputs": [
        {
          "output_type": "execute_result",
          "data": {
            "text/plain": [
              "'<float32[784,10],float32[10]>'"
            ],
            "application/vnd.google.colaboratory.intrinsic+json": {
              "type": "string"
            }
          },
          "metadata": {},
          "execution_count": 21
        }
      ]
    },
    {
      "cell_type": "code",
      "source": [
        "@tf.function\n",
        "def client_update(model, dataset, server_weights, client_optimizer):\n",
        "  \"\"\"Performs training (using the server model weights) on the client's dataset.\"\"\"\n",
        "  # Initialize the client model with the current server weights.\n",
        "  client_weights = model.trainable_variables\n",
        "  # Assign the server weights to the client model.\n",
        "  tf.nest.map_structure(lambda x, y: x.assign(y),\n",
        "                        client_weights, server_weights)\n",
        "\n",
        "  # Use the client_optimizer to update the local model.\n",
        "  for batch in dataset:\n",
        "    with tf.GradientTape() as tape:\n",
        "      # Compute a forward pass on the batch of data\n",
        "      outputs = model.forward_pass(batch)\n",
        "\n",
        "    # Compute the corresponding gradient\n",
        "    grads = tape.gradient(outputs.loss, client_weights)\n",
        "    grads_and_vars = zip(grads, client_weights)\n",
        "\n",
        "    # Apply the gradient using a client optimizer.\n",
        "    client_optimizer.apply_gradients(grads_and_vars)\n",
        "\n",
        "  return client_weights"
      ],
      "metadata": {
        "id": "z7C2ihIGehDD"
      },
      "execution_count": null,
      "outputs": []
    },
    {
      "cell_type": "code",
      "source": [
        "@tf.function\n",
        "def server_update(model, mean_client_weights):\n",
        "  \"\"\"Updates the server model weights as the average of the client model weights.\"\"\"\n",
        "  model_weights = model.trainable_variables\n",
        "  # Assign the mean client weights to the server model.\n",
        "  tf.nest.map_structure(lambda x, y: x.assign(y),\n",
        "                        model_weights, mean_client_weights)\n",
        "  return model_weights"
      ],
      "metadata": {
        "id": "iVieVqMJeit5"
      },
      "execution_count": null,
      "outputs": []
    },
    {
      "cell_type": "markdown",
      "source": [
        "# **Client update:**\n"
      ],
      "metadata": {
        "id": "oHngZarsXwuX"
      }
    },
    {
      "cell_type": "code",
      "source": [
        "@tff.tf_computation(tf_dataset_type, model_weights_type)\n",
        "def client_update_fn(tf_dataset, server_weights):\n",
        "  model = model_fn()\n",
        "  client_optimizer = tf.keras.optimizers.SGD(learning_rate=0.01)\n",
        "  return client_update(model, tf_dataset, server_weights, client_optimizer)"
      ],
      "metadata": {
        "id": "Pvtsv9zowUgx"
      },
      "execution_count": null,
      "outputs": []
    },
    {
      "cell_type": "markdown",
      "source": [
        "# **Server Update :**\n",
        "The server update for FedAvg is simpler than the client update. in this exemple we  implemented the  \"vanilla\" federated averaging, in which the server model weights are replaced by the average of the client model weights. Again, this only uses the trainable weights."
      ],
      "metadata": {
        "id": "QNCVI3cYWZup"
      }
    },
    {
      "cell_type": "code",
      "source": [
        "@tff.tf_computation(model_weights_type)\n",
        "def server_update_fn(mean_client_weights):\n",
        "  model = model_fn()\n",
        "  return server_update(model, mean_client_weights)"
      ],
      "metadata": {
        "id": "hbzIOhm-z2Xx"
      },
      "execution_count": null,
      "outputs": []
    },
    {
      "cell_type": "code",
      "source": [
        "federated_server_type = tff.FederatedType(model_weights_type, tff.SERVER)\n",
        "federated_dataset_type = tff.FederatedType(tf_dataset_type, tff.CLIENTS)"
      ],
      "metadata": {
        "id": "xwzgcqw2z6g9"
      },
      "execution_count": null,
      "outputs": []
    },
    {
      "cell_type": "markdown",
      "source": [
        "**Next function :**\n",
        "now we will create our federated learning algorithm in these 4 steps:\n",
        "\n",
        "1. A server-to-client broadcast step.\n",
        "2. A local client update step.\n",
        "3. A client-to-server upload step.\n",
        "4. A server update step.\n",
        "we will be combining all the above functions into a federated computatuion"
      ],
      "metadata": {
        "id": "50I5MtF_WpTw"
      }
    },
    {
      "cell_type": "code",
      "source": [
        "@tff.federated_computation(federated_server_type, federated_dataset_type)\n",
        "def next_fn(server_weights, federated_dataset):\n",
        "  # Broadcast the server weights to the clients.\n",
        "  server_weights_at_client = tff.federated_broadcast(server_weights)\n",
        " # in this step the server sends the updated wieghts to the client.\n",
        "\n",
        "  # Each client computes their updated weights.\n",
        "  client_weights = tff.federated_map(\n",
        "      client_update_fn, (federated_dataset, server_weights_at_client))\n",
        "\n",
        "  # The server averages these updates.\n",
        "  mean_client_weights = tff.federated_mean(client_weights)\n",
        "\n",
        "  # The server updates its model.\n",
        "  server_weights = tff.federated_map(server_update_fn, mean_client_weights)\n",
        "\n",
        "  return server_weights"
      ],
      "metadata": {
        "id": "78idSHAv0Bgb"
      },
      "execution_count": null,
      "outputs": []
    },
    {
      "cell_type": "markdown",
      "source": [
        "Now we create an iterative process to repeat the federated algorithm into multiple rounds."
      ],
      "metadata": {
        "id": "DVYKPHi9aW0K"
      }
    },
    {
      "cell_type": "code",
      "source": [
        "federated_algorithm = tff.templates.IterativeProcess(\n",
        "    initialize_fn=initialize_fn,\n",
        "    next_fn=next_fn\n",
        ")"
      ],
      "metadata": {
        "id": "VjvKmgr30CcA"
      },
      "execution_count": null,
      "outputs": []
    },
    {
      "cell_type": "code",
      "source": [
        "str(federated_algorithm.initialize.type_signature)"
      ],
      "metadata": {
        "colab": {
          "base_uri": "https://localhost:8080/",
          "height": 35
        },
        "id": "d01B8E6v0G0C",
        "outputId": "94ff022f-7ca0-49dd-c4d5-4faba9f70a9e"
      },
      "execution_count": null,
      "outputs": [
        {
          "output_type": "execute_result",
          "data": {
            "text/plain": [
              "'( -> <float32[784,10],float32[10]>@SERVER)'"
            ],
            "application/vnd.google.colaboratory.intrinsic+json": {
              "type": "string"
            }
          },
          "metadata": {},
          "execution_count": 32
        }
      ]
    },
    {
      "cell_type": "markdown",
      "source": [
        "This reflects the fact that `federated_algorithm.initialize` is a no-arg function that returns a single-layer model (with a 784-by-10 weight matrix, and 10 bias units)."
      ],
      "metadata": {
        "id": "VPG_EScgasf6"
      }
    },
    {
      "cell_type": "code",
      "source": [
        "str(federated_algorithm.next.type_signature)"
      ],
      "metadata": {
        "colab": {
          "base_uri": "https://localhost:8080/",
          "height": 52
        },
        "id": "Q-pwiIkz0Jp8",
        "outputId": "5ca74012-959a-4a31-ff04-794bfcbe0872"
      },
      "execution_count": null,
      "outputs": [
        {
          "output_type": "execute_result",
          "data": {
            "text/plain": [
              "'(<server_weights=<float32[784,10],float32[10]>@SERVER,federated_dataset={<float32[?,784],int32[?,1]>*}@CLIENTS> -> <float32[784,10],float32[10]>@SERVER)'"
            ],
            "application/vnd.google.colaboratory.intrinsic+json": {
              "type": "string"
            }
          },
          "metadata": {},
          "execution_count": 33
        }
      ]
    },
    {
      "cell_type": "markdown",
      "source": [
        "Here, we can see that `federated_algorithm.next` accepts a server model and client data, and returns an updated server model."
      ],
      "metadata": {
        "id": "UeeZRNFoa2tI"
      }
    },
    {
      "cell_type": "markdown",
      "source": [
        "# **Evaluating the model :**"
      ],
      "metadata": {
        "id": "ROAdSSRZfylK"
      }
    },
    {
      "cell_type": "markdown",
      "source": [
        "we will evaluate our model using the accuracy and the loss function\n",
        "Let's run a few rounds, and see how the loss changes. First, we will define an evaluation function.\n",
        "\n",
        "We will first create a centralized evaluation dataset, and then apply the same preprocessing we used for the training data."
      ],
      "metadata": {
        "id": "kYvVeG_8bENT"
      }
    },
    {
      "cell_type": "code",
      "source": [
        "central_emnist_test = emnist_test.create_tf_dataset_from_all_clients()\n",
        "central_emnist_test = preprocess(central_emnist_test)"
      ],
      "metadata": {
        "id": "Tkc0bNH7YBo9"
      },
      "execution_count": null,
      "outputs": []
    },
    {
      "cell_type": "markdown",
      "source": [
        "Next, we will write a function that accepts a server state, and uses Keras to evaluate on the test dataset."
      ],
      "metadata": {
        "id": "NKVwG0KlbfVd"
      }
    },
    {
      "cell_type": "code",
      "source": [
        "def evaluate(server_state):\n",
        "  keras_model = create_keras_model()\n",
        "  keras_model.compile(\n",
        "      loss=tf.keras.losses.SparseCategoricalCrossentropy(),\n",
        "      metrics=[tf.keras.metrics.SparseCategoricalAccuracy()]\n",
        "  )\n",
        "  keras_model.set_weights(server_state)\n",
        "  keras_model.evaluate(central_emnist_test)"
      ],
      "metadata": {
        "id": "_jFAi1ibhTiV"
      },
      "execution_count": null,
      "outputs": []
    },
    {
      "cell_type": "code",
      "source": [
        "server_state = federated_algorithm.initialize()\n",
        "evaluate(server_state)"
      ],
      "metadata": {
        "colab": {
          "base_uri": "https://localhost:8080/"
        },
        "id": "FnDtS5X0iZAZ",
        "outputId": "c2df6f53-e74e-4b7f-e7b7-b3166626860a"
      },
      "execution_count": null,
      "outputs": [
        {
          "output_type": "stream",
          "name": "stdout",
          "text": [
            "10208/10208 [==============================] - 42s 4ms/step - loss: 2.8479 - sparse_categorical_accuracy: 0.1027\n"
          ]
        }
      ]
    },
    {
      "cell_type": "markdown",
      "source": [
        "for the first round we got an accuarcy pf 0.1027 and a loss of 2.847, let's do more round and see if we get better results."
      ],
      "metadata": {
        "id": "41djBlO7bpy3"
      }
    },
    {
      "cell_type": "code",
      "source": [
        "for round in range(50):\n",
        "  server_state = federated_algorithm.next(server_state, federated_train_data)"
      ],
      "metadata": {
        "id": "yXX4znOKjw5B"
      },
      "execution_count": null,
      "outputs": []
    },
    {
      "cell_type": "code",
      "source": [
        "evaluate(server_state)"
      ],
      "metadata": {
        "colab": {
          "base_uri": "https://localhost:8080/"
        },
        "id": "LQ_xH_b80kC1",
        "outputId": "712831a0-736f-4e51-8962-7ce9e2c276e1"
      },
      "execution_count": null,
      "outputs": [
        {
          "output_type": "stream",
          "name": "stdout",
          "text": [
            "10208/10208 [==============================] - 45s 4ms/step - loss: 0.9467 - sparse_categorical_accuracy: 0.7399\n"
          ]
        }
      ]
    },
    {
      "cell_type": "markdown",
      "source": [
        "after performing 50 rounds on 10 clients only we raised our accuracy from 0.1 to 0.73 and the loss decreased to 0.94, if we want better results we could go to 100 rounds or more."
      ],
      "metadata": {
        "id": "2TgAo_zYb4RC"
      }
    },
    {
      "cell_type": "markdown",
      "source": [
        "# **Conclusion :**\n",
        "In conclusion, our project on federated learning using Python has demonstrated the potential of this innovative approach to machine learning. By allowing multiple parties to collaborate on a machine learning model without sharing sensitive data, federated learning has the potential to address privacy concerns while still delivering accurate results.\n",
        "\n",
        "Throughout our project, we utilized various Python libraries and tools such as federated tensorflow, computations, ... etc to implement federated learning on a distributed dataset. We worked on the client-server architecture, where the server aggregates the model updates from multiple clients while ensuring the privacy of each client's data.\n",
        "\n",
        "Our experiments showed that federated learning can achieve comparable accuracy to traditional centralized learning methods while preserving privacy.\n",
        "\n",
        "In summary, our project highlights the potential of federated learning to enable secure and privacy-preserving machine learning, making it a promising avenue for future research and development."
      ],
      "metadata": {
        "id": "wojwbJO64Brz"
      }
    }
  ]
}